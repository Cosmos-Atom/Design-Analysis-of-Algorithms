{
 "cells": [
  {
   "cell_type": "markdown",
   "metadata": {},
   "source": [
    "Lab - 1: Part - 3"
   ]
  },
  {
   "cell_type": "markdown",
   "metadata": {},
   "source": [
    "Question - 1"
   ]
  },
  {
   "cell_type": "code",
   "execution_count": null,
   "metadata": {},
   "outputs": [],
   "source": [
    "def find_pair_with_sum(arr, target_sum):\n",
    "    num_dict = {}\n",
    "    for num in arr:\n",
    "        if target_sum - num in num_dict:\n",
    "            return (target_sum - num, num)\n",
    "        num_dict[num] = True\n",
    "    \n",
    "    return None\n",
    "\n",
    "arr = [8, 7, 2, 5, 3, 1]\n",
    "target_sum = 10\n",
    "pair = find_pair_with_sum(arr, target_sum)\n",
    "if pair:\n",
    "    print(f\"Pair with sum {target_sum}: {pair}\")\n",
    "else:\n",
    "    print(\"No such pair found.\")\n"
   ]
  },
  {
   "cell_type": "markdown",
   "metadata": {},
   "source": [
    "Question - 2"
   ]
  },
  {
   "cell_type": "code",
   "execution_count": 1,
   "metadata": {},
   "outputs": [
    {
     "name": "stdout",
     "output_type": "stream",
     "text": [
      "Pair with maximum product: (9, 8)\n"
     ]
    }
   ],
   "source": [
    "def max_product_pair(arr):\n",
    "    if len(arr) < 2:\n",
    "        return None\n",
    "\n",
    "    max1 = max2 = float('-inf')\n",
    "    min1 = min2 = float('inf')\n",
    "\n",
    "    for num in arr:\n",
    "        if num > max1:\n",
    "            max2 = max1\n",
    "            max1 = num\n",
    "        elif num > max2:\n",
    "            max2 = num\n",
    "\n",
    "        if num < min1:\n",
    "            min2 = min1\n",
    "            min1 = num\n",
    "        elif num < min2:\n",
    "            min2 = num\n",
    "\n",
    "    if max1 * max2 > min1 * min2:\n",
    "        return (max1, max2)\n",
    "    else:\n",
    "        return (min1, min2)\n",
    "\n",
    "arr = [1, 7, 4, 2, 8, 6, 3, 9, 5]\n",
    "pair = max_product_pair(arr)\n",
    "if pair:\n",
    "    print(f\"Pair with maximum product: {pair}\")\n",
    "else:\n",
    "    print(\"No such pair found.\")\n"
   ]
  },
  {
   "cell_type": "markdown",
   "metadata": {},
   "source": [
    "Question - 3"
   ]
  },
  {
   "cell_type": "code",
   "execution_count": 2,
   "metadata": {},
   "outputs": [
    {
     "name": "stdout",
     "output_type": "stream",
     "text": [
      "Sorted array: [3, 5, 6, 7, 8, 9]\n"
     ]
    }
   ],
   "source": [
    "def sort_swapped_array(arr):\n",
    "    first = second = None\n",
    "    for i in range(len(arr) - 1):\n",
    "        if arr[i] > arr[i + 1]:\n",
    "            if first is None:\n",
    "                first = i\n",
    "            else:\n",
    "                second = i + 1\n",
    "\n",
    "    arr[first], arr[second] = arr[second], arr[first]\n",
    "\n",
    "    return arr\n",
    "\n",
    "arr = [3, 8, 6, 7, 5, 9]\n",
    "sorted_arr = sort_swapped_array(arr)\n",
    "print(\"Sorted array:\", sorted_arr)\n"
   ]
  },
  {
   "cell_type": "markdown",
   "metadata": {},
   "source": [
    "Question - 4"
   ]
  },
  {
   "cell_type": "code",
   "execution_count": 3,
   "metadata": {},
   "outputs": [
    {
     "name": "stdout",
     "output_type": "stream",
     "text": [
      "Segregated array: [0, 0, 0, 0, 0, 1, 1, 1, 1, 1]\n"
     ]
    }
   ],
   "source": [
    "def segregate_zeros_and_ones(arr):\n",
    "    left = 0\n",
    "    right = len(arr) - 1\n",
    "\n",
    "    while left < right:\n",
    "        while arr[left] == 0 and left < right:\n",
    "            left += 1\n",
    "        while arr[right] == 1 and left < right:\n",
    "            right -= 1\n",
    "        arr[left], arr[right] = arr[right], arr[left]\n",
    "        left += 1\n",
    "        right -= 1\n",
    "\n",
    "    return arr\n",
    "\n",
    "arr = [0, 1, 0, 1, 0, 0, 1, 1, 1, 0]\n",
    "segregated_arr = segregate_zeros_and_ones(arr)\n",
    "print(\"Segregated array:\", segregated_arr)\n"
   ]
  },
  {
   "cell_type": "markdown",
   "metadata": {},
   "source": [
    "Question - 5"
   ]
  },
  {
   "cell_type": "code",
   "execution_count": 5,
   "metadata": {},
   "outputs": [
    {
     "name": "stdout",
     "output_type": "stream",
     "text": [
      "Total count of inversions: 5\n"
     ]
    }
   ],
   "source": [
    "def merge(arr, low, mid, high):\n",
    "    left = arr[low:mid+1]\n",
    "    right = arr[mid+1:high+1]\n",
    "\n",
    "    i = j = k = inversion_count = 0\n",
    "\n",
    "    while i < len(left) and j < len(right):\n",
    "        if left[i] <= right[j]:\n",
    "            arr[k] = left[i]\n",
    "            i += 1\n",
    "        else:\n",
    "            arr[k] = right[j]\n",
    "            j += 1\n",
    "            inversion_count += len(left) - i\n",
    "        k += 1\n",
    "\n",
    "    while i < len(left):\n",
    "        arr[k] = left[i]\n",
    "        i += 1\n",
    "        k += 1\n",
    "\n",
    "    while j < len(right):\n",
    "        arr[k] = right[j]\n",
    "        j += 1\n",
    "        k += 1\n",
    "\n",
    "    return inversion_count\n",
    "\n",
    "def merge_sort(arr, low, high):\n",
    "    inversion_count = 0\n",
    "    if low < high:\n",
    "        mid = (low + high) // 2\n",
    "        inversion_count += merge_sort(arr, low, mid)\n",
    "        inversion_count += merge_sort(arr, mid+1, high)\n",
    "        inversion_count += merge(arr, low, mid, high)\n",
    "    return inversion_count\n",
    "\n",
    "arr = [10, 1, 2, 4, 13, 9, 5]\n",
    "count = merge_sort(arr, 0, len(arr) - 1)\n",
    "print(\"Total count of inversions:\", count)\n"
   ]
  },
  {
   "cell_type": "markdown",
   "metadata": {},
   "source": [
    "Question - 6"
   ]
  },
  {
   "cell_type": "markdown",
   "metadata": {},
   "source": [
    "Part - A"
   ]
  },
  {
   "cell_type": "code",
   "execution_count": 6,
   "metadata": {},
   "outputs": [
    {
     "name": "stdout",
     "output_type": "stream",
     "text": [
      "True\n"
     ]
    }
   ],
   "source": [
    "def has_pair_with_sum_n2(arr, K):\n",
    "    n = len(arr)\n",
    "    for i in range(n):\n",
    "        for j in range(i + 1, n):\n",
    "            if arr[i] + arr[j] == K:\n",
    "                return True\n",
    "    return False\n",
    "\n",
    "arr = [8, 4, 1, 6]\n",
    "K = 10\n",
    "print(has_pair_with_sum_n2(arr, K))\n"
   ]
  },
  {
   "cell_type": "markdown",
   "metadata": {},
   "source": [
    "Part - B"
   ]
  },
  {
   "cell_type": "code",
   "execution_count": 7,
   "metadata": {},
   "outputs": [
    {
     "name": "stdout",
     "output_type": "stream",
     "text": [
      "True\n"
     ]
    }
   ],
   "source": [
    "def has_pair_with_sum_nlogn(arr, K):\n",
    "    arr.sort()\n",
    "    left = 0\n",
    "    right = len(arr) - 1\n",
    "    while left < right:\n",
    "        if arr[left] + arr[right] == K:\n",
    "            return True\n",
    "        elif arr[left] + arr[right] < K:\n",
    "            left += 1\n",
    "        else:\n",
    "            right -= 1\n",
    "    return False\n",
    "\n",
    "arr = [8, 4, 1, 6]\n",
    "K = 10\n",
    "print(has_pair_with_sum_nlogn(arr, K))\n"
   ]
  }
 ],
 "metadata": {
  "kernelspec": {
   "display_name": "saturn",
   "language": "python",
   "name": "python3"
  },
  "language_info": {
   "codemirror_mode": {
    "name": "ipython",
    "version": 3
   },
   "file_extension": ".py",
   "mimetype": "text/x-python",
   "name": "python",
   "nbconvert_exporter": "python",
   "pygments_lexer": "ipython3",
   "version": "3.10.13"
  }
 },
 "nbformat": 4,
 "nbformat_minor": 2
}
