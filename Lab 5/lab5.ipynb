{
 "cells": [
  {
   "cell_type": "markdown",
   "metadata": {},
   "source": [
    "1. Candies"
   ]
  },
  {
   "cell_type": "code",
   "execution_count": 5,
   "metadata": {},
   "outputs": [
    {
     "name": "stdout",
     "output_type": "stream",
     "text": [
      "4\n",
      "19\n"
     ]
    }
   ],
   "source": [
    "def candies(n, arr):\n",
    "    candies = [1] * n\n",
    "    \n",
    "    for i in range(1, n):\n",
    "        if arr[i] > arr[i-1]:\n",
    "            candies[i] = candies[i-1] + 1\n",
    "    \n",
    "    for i in range(n-2, -1, -1):\n",
    "        if arr[i] > arr[i+1] and candies[i] <= candies[i+1]:\n",
    "            candies[i] = candies[i+1] + 1\n",
    "    \n",
    "    return sum(candies)\n",
    "\n",
    "n1 = 3\n",
    "arr1 = [1, 2, 2]\n",
    "print(candies(n1, arr1)) \n",
    "\n",
    "n2 = 10\n",
    "arr2 = [2, 4, 2, 6, 1, 7, 8, 9, 2, 1]\n",
    "print(candies(n2, arr2))\n"
   ]
  },
  {
   "cell_type": "markdown",
   "metadata": {},
   "source": [
    "Cloudy day"
   ]
  },
  {
   "cell_type": "code",
   "execution_count": 6,
   "metadata": {},
   "outputs": [
    {
     "name": "stdout",
     "output_type": "stream",
     "text": [
      "110\n"
     ]
    }
   ],
   "source": [
    "def max_people(p, x, y, r):\n",
    "    num_towns = len(p)\n",
    "    num_clouds = len(y)\n",
    "    result = 0\n",
    "\n",
    "    for i in range(1 << num_clouds):\n",
    "        count = 0\n",
    "        covered = set()\n",
    "        for j in range(num_clouds):\n",
    "            if (i >> j) & 1:\n",
    "                for k in range(num_towns):\n",
    "                    if abs(x[k] - y[j]) <= r[j]:\n",
    "                        covered.add(k)\n",
    "        for k in range(num_towns):\n",
    "            if k not in covered:\n",
    "                count += p[k]\n",
    "        result = max(result, count)\n",
    "\n",
    "    return result\n",
    "\n",
    "n = 2\n",
    "populations = [10, 100]\n",
    "town_locations = [5, 100]\n",
    "m = 1\n",
    "cloud_locations = [4]\n",
    "cloud_ranges = [1]\n",
    "print(max_people(populations, town_locations, cloud_locations, cloud_ranges))\n"
   ]
  },
  {
   "cell_type": "markdown",
   "metadata": {},
   "source": [
    "Goodland electricity"
   ]
  },
  {
   "cell_type": "code",
   "execution_count": 7,
   "metadata": {},
   "outputs": [
    {
     "name": "stdout",
     "output_type": "stream",
     "text": [
      "2\n"
     ]
    }
   ],
   "source": [
    "def min_plants_needed(range_limit, cities):\n",
    "    num_cities = len(cities)\n",
    "    plants = 0\n",
    "    current = 0\n",
    "\n",
    "    while current < num_cities:\n",
    "        found = False\n",
    "        for next_city in range(min(current + range_limit - 1, num_cities - 1), current - 1, -1):\n",
    "            if cities[next_city] == 1:\n",
    "                plants += 1\n",
    "                current = next_city + range_limit\n",
    "                found = True\n",
    "                break\n",
    "        if not found:\n",
    "            return -1\n",
    "\n",
    "    return plants\n",
    "\n",
    "num_cities, k = 6, 2\n",
    "city_data = [0, 1, 1, 1, 1, 0]\n",
    "\n",
    "print(min_plants_needed(k, city_data)) \n"
   ]
  }
 ],
 "metadata": {
  "kernelspec": {
   "display_name": "saturn",
   "language": "python",
   "name": "python3"
  },
  "language_info": {
   "codemirror_mode": {
    "name": "ipython",
    "version": 3
   },
   "file_extension": ".py",
   "mimetype": "text/x-python",
   "name": "python",
   "nbconvert_exporter": "python",
   "pygments_lexer": "ipython3",
   "version": "3.10.13"
  }
 },
 "nbformat": 4,
 "nbformat_minor": 2
}
